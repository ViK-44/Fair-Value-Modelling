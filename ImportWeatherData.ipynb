{
 "cells": [
  {
   "cell_type": "code",
   "execution_count": 1,
   "id": "6ab40b65",
   "metadata": {},
   "outputs": [],
   "source": [
    "from rfo_core.aws.iam import ensure_glue_service_role_exists, resolve_role_arn, get_aws_session\n",
    "from rfo_core.aws.s3 import ensure_s3_bucket_exists\n",
    "from rfo_core.aws.s3 import get_bucket_name, create_s3_subfolders\n",
    "from rfo_core.configuration import (\n",
    "    aws_key, aws_secret, aws_service_role_name,\n",
    "    aws_region_default, aws_default_sync_mode, aws_versioning_on\n",
    ")"
   ]
  },
  {
   "cell_type": "code",
   "execution_count": 2,
   "id": "c6a5db0e",
   "metadata": {},
   "outputs": [],
   "source": [
    "import awswrangler as wr\n",
    "import boto3 as bt"
   ]
  },
  {
   "cell_type": "code",
   "execution_count": 3,
   "id": "4edfa61b",
   "metadata": {},
   "outputs": [],
   "source": [
    "def aws_get_session(region: str = aws_region_default) -> bt.Session:\n",
    "    return get_aws_session(aws_key=aws_key, aws_secret=aws_secret, aws_region=region)"
   ]
  },
  {
   "cell_type": "code",
   "execution_count": 4,
   "id": "7e55e66d",
   "metadata": {},
   "outputs": [],
   "source": [
    "session = aws_get_session(region='us-east-1')"
   ]
  },
  {
   "cell_type": "code",
   "execution_count": 5,
   "id": "452ea00f",
   "metadata": {},
   "outputs": [],
   "source": [
    "table=\"rfo_weather_enriched\""
   ]
  },
  {
   "cell_type": "code",
   "execution_count": 6,
   "id": "0e3acd4b",
   "metadata": {},
   "outputs": [
    {
     "name": "stdout",
     "output_type": "stream",
     "text": [
      "['MISO', 'MIDWEST', 'CAISO', 'PACIFIC', 'OIL/GAS FIELDS', 'PRODUCING', 'SPP', 'CONUS', 'AESO', 'CONSUM. EAST', 'IESO', 'NWPP', 'PJM', 'SOUTHEAST', <NA>, 'NYISO', 'ERCOT', 'MOUNTAIN', 'NEISO', 'SOUTHWEST', 'CONSUM. WEST', 'SOUTH CENTRAL', 'EAST']\n"
     ]
    }
   ],
   "source": [
    "# checking all unique regions in the table\n",
    "sql = \"SELECT DISTINCT region FROM rfo_weather_enriched\"\n",
    "unique_datatypes = wr.athena.read_sql_query(\n",
    "    sql=sql,\n",
    "    database=\"rfo_analytics\",\n",
    "    boto3_session=session\n",
    ")\n",
    "print(unique_datatypes['region'].tolist())"
   ]
  },
  {
   "cell_type": "code",
   "execution_count": 8,
   "id": "1211e7e0",
   "metadata": {},
   "outputs": [
    {
     "name": "stdout",
     "output_type": "stream",
     "text": [
      "['MISO', 'CAISO', 'NYISO', 'PJMISO', 'NEISO', <NA>, 'IESO']\n"
     ]
    }
   ],
   "source": [
    "# checking all unique regions in the table\n",
    "sql = \"SELECT DISTINCT iso FROM rfo_load_enriched\"\n",
    "unique_datatypes = wr.athena.read_sql_query(\n",
    "    sql=sql,\n",
    "    database=\"rfo_analytics\",\n",
    "    boto3_session=session\n",
    ")\n",
    "print(unique_datatypes['iso'].tolist())"
   ]
  },
  {
   "cell_type": "code",
   "execution_count": null,
   "id": "5307acd8",
   "metadata": {},
   "outputs": [],
   "source": [
    "# checking all unique datatypes in the table\n",
    "sql = \"SELECT DISTINCT datatype FROM rfo_weather_enriched\"\n",
    "unique_datatypes = wr.athena.read_sql_query(\n",
    "    sql=sql,\n",
    "    database=\"rfo_analytics\",\n",
    "    boto3_session=session\n",
    ")\n",
    "print(unique_datatypes['datatype'].tolist())"
   ]
  },
  {
   "cell_type": "code",
   "execution_count": 10,
   "id": "2da469cc",
   "metadata": {},
   "outputs": [
    {
     "name": "stdout",
     "output_type": "stream",
     "text": [
      "station_name\n",
      "Tacoma            1\n",
      "Boise             1\n",
      "Eugene            1\n",
      "Portland          1\n",
      "NWPP              1\n",
      "Vancouver         1\n",
      "Yakima            1\n",
      "Pendleton         1\n",
      "Billings          1\n",
      "Medford           1\n",
      "Reno              1\n",
      "Salt Lake City    1\n",
      "Great Falls       1\n",
      "Klamath Falls     1\n",
      "Spokane           1\n",
      "Seattle           1\n",
      "Name: count, dtype: Int64\n"
     ]
    }
   ],
   "source": [
    "# checking all unique station names in the table with region as \"CAISO\"\n",
    "sql = \"SELECT DISTINCT station_name FROM rfo_weather_enriched WHERE region = 'NWPP'\"\n",
    "unique_datatypes = wr.athena.read_sql_query(\n",
    "    sql=sql,\n",
    "    database=\"rfo_analytics\",\n",
    "    boto3_session=session\n",
    ")\n",
    "print(unique_datatypes['station_name'].value_counts())"
   ]
  },
  {
   "cell_type": "code",
   "execution_count": null,
   "id": "753156cd",
   "metadata": {},
   "outputs": [],
   "source": [
    "# checking all unique station names in the table with region as \"CAISO\"\n",
    "sql = \"SELECT DISTINCT station_name FROM rfo_weather_enriched WHERE region = 'CAISO'\"\n",
    "unique_datatypes = wr.athena.read_sql_query(\n",
    "    sql=sql,\n",
    "    database=\"rfo_analytics\",\n",
    "    boto3_session=session\n",
    ")\n",
    "print(unique_datatypes['station_name'].value_counts())"
   ]
  },
  {
   "cell_type": "code",
   "execution_count": 7,
   "id": "31b3aa72",
   "metadata": {},
   "outputs": [
    {
     "name": "stdout",
     "output_type": "stream",
     "text": [
      "['SOUTHWEST', 'MISO', 'NEISO', 'OIL/GAS FIELDS', 'MOUNTAIN', 'CONSUM. WEST', 'CONSUM. EAST', 'PRODUCING', 'PACIFIC', 'AESO', 'IESO', 'NWPP', 'SOUTHEAST', <NA>, 'CAISO', 'SPP', 'EAST', 'CONUS', 'SOUTH CENTRAL', 'ERCOT', 'PJM', 'NYISO', 'MIDWEST']\n"
     ]
    }
   ],
   "source": [
    "print(unique_datatypes['region'].tolist())"
   ]
  },
  {
   "cell_type": "code",
   "execution_count": 7,
   "id": "4552deeb",
   "metadata": {},
   "outputs": [],
   "source": [
    "# conditions='''WHERE region IN ('CAISO', 'NWPP', 'SOUTHWEST')\n",
    "#   AND datatype = 'temperature'\n",
    "#   AND CAST(datetime AS DATE) BETWEEN DATE '2016-01-01' AND DATE '2025-12-31' '''\n",
    "conditions=\"WHERE CAST(datetime AS DATE) BETWEEN DATE '2016-01-01' AND DATE '2025-12-31'\""
   ]
  },
  {
   "cell_type": "code",
   "execution_count": 8,
   "id": "594af11e",
   "metadata": {},
   "outputs": [],
   "source": [
    "#To query all columns\n",
    "# table_info = wr.catalog.table(\n",
    "#     database=\"rfo_analytics\", \n",
    "#     table=table, \n",
    "#     boto3_session=session\n",
    "# )\n",
    "# columns = table_info['Column Name'].values\n",
    "\n",
    "#If you know which columns to query\n",
    "columns = [\"datetime\",\"datatype\",\"avgvalue\",\"siteid\",\"station_name\",\"region\",\"timezone\"] # for weather\n",
    "# columns = [\"datetime\",\"avgvalue\",\"objectid\",\"name\",\"yes_objectid\",\"iso\"]\n",
    "# Build SELECT clause with automatic datetime casting\n",
    "select_parts = []\n",
    "for col_name in columns:\n",
    "    if col_name.lower() == 'datetime':\n",
    "        select_parts.append(f\"CAST({col_name} AS timestamp) as {col_name}\")\n",
    "    else:\n",
    "        select_parts.append(col_name)\n",
    "\n",
    "select_clause = \",\\n    \".join(select_parts)\n",
    "\n",
    "# Build and execute query\n",
    "sql = f\"\"\"SELECT \n",
    "    {select_clause}\n",
    "FROM {table}\n",
    "{conditions}\n",
    "\"\"\"\n",
    "\n",
    "df = wr.athena.read_sql_query(\n",
    "    sql=sql,\n",
    "    database=\"rfo_analytics\",\n",
    "    boto3_session=session\n",
    ")"
   ]
  },
  {
   "cell_type": "code",
   "execution_count": 15,
   "id": "59915305",
   "metadata": {},
   "outputs": [],
   "source": [
    "#save df a csv file\n",
    "df.to_csv(\"Temp_CAINWPPSW_10yrs.csv\", index=False)"
   ]
  },
  {
   "cell_type": "code",
   "execution_count": 9,
   "id": "a3d9cb00",
   "metadata": {},
   "outputs": [
    {
     "name": "stdout",
     "output_type": "stream",
     "text": [
      "<class 'pandas.core.frame.DataFrame'>\n",
      "RangeIndex: 185196783 entries, 0 to 185196782\n",
      "Data columns (total 7 columns):\n",
      " #   Column        Dtype         \n",
      "---  ------        -----         \n",
      " 0   datetime      datetime64[ns]\n",
      " 1   datatype      string        \n",
      " 2   avgvalue      float64       \n",
      " 3   siteid        string        \n",
      " 4   station_name  string        \n",
      " 5   region        string        \n",
      " 6   timezone      string        \n",
      "dtypes: datetime64[ns](1), float64(1), string(5)\n",
      "memory usage: 9.7 GB\n"
     ]
    }
   ],
   "source": [
    "df.info()"
   ]
  },
  {
   "cell_type": "code",
   "execution_count": null,
   "id": "427ecd55",
   "metadata": {},
   "outputs": [],
   "source": []
  }
 ],
 "metadata": {
  "kernelspec": {
   "display_name": "MLRuken",
   "language": "python",
   "name": "python3"
  },
  "language_info": {
   "codemirror_mode": {
    "name": "ipython",
    "version": 3
   },
   "file_extension": ".py",
   "mimetype": "text/x-python",
   "name": "python",
   "nbconvert_exporter": "python",
   "pygments_lexer": "ipython3",
   "version": "3.12.11"
  }
 },
 "nbformat": 4,
 "nbformat_minor": 5
}
