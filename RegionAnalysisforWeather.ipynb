{
 "cells": [
  {
   "cell_type": "code",
   "execution_count": null,
   "id": "a8763bdb",
   "metadata": {
    "vscode": {
     "languageId": "plaintext"
    }
   },
   "outputs": [],
   "source": []
  },
  {
   "cell_type": "code",
   "execution_count": null,
   "id": "1264f7ec",
   "metadata": {
    "vscode": {
     "languageId": "plaintext"
    }
   },
   "outputs": [],
   "source": [
    "from rfo_core.aws.iam import get_aws_session\n",
    "import awswrangler as wr\n",
    "import boto3 as bt"
   ]
  },
  {
   "cell_type": "code",
   "execution_count": null,
   "id": "28acf5d2",
   "metadata": {
    "vscode": {
     "languageId": "plaintext"
    }
   },
   "outputs": [],
   "source": [
    "def aws_get_session(region: str = aws_region_default) -> bt.Session:\n",
    "    return get_aws_session(aws_key=aws_key, aws_secret=aws_secret, aws_region=region\n",
    "session = aws_get_session(region='us-east-1')"
   ]
  },
  {
   "cell_type": "code",
   "execution_count": null,
   "id": "e9551b13",
   "metadata": {
    "vscode": {
     "languageId": "plaintext"
    }
   },
   "outputs": [],
   "source": [
    "table=\"rfo_weather_enriched\""
   ]
  }
 ],
 "metadata": {
  "language_info": {
   "name": "python"
  }
 },
 "nbformat": 4,
 "nbformat_minor": 5
}
