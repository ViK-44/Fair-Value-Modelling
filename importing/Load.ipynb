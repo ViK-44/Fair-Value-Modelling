{
 "cells": [
  {
   "cell_type": "code",
   "execution_count": 1,
   "id": "6ab40b65",
   "metadata": {},
   "outputs": [],
   "source": [
    "from rfo_core.aws.iam import get_aws_session\n",
    "import sys\n",
    "sys.path.append(\"D:\\\\FVM\\\\helpers\")\n",
    "from helpers import Zone_names\n",
    "from rfo_core.configuration import (aws_key, aws_secret, aws_region_default)\n",
    "# import pandas as pd"
   ]
  },
  {
   "cell_type": "code",
   "execution_count": 2,
   "id": "c6a5db0e",
   "metadata": {},
   "outputs": [],
   "source": [
    "import awswrangler as wr\n",
    "import boto3 as bt"
   ]
  },
  {
   "cell_type": "code",
   "execution_count": 3,
   "id": "4edfa61b",
   "metadata": {},
   "outputs": [],
   "source": [
    "def aws_get_session(region: str = aws_region_default) -> bt.Session:\n",
    "    return get_aws_session(aws_key=aws_key, aws_secret=aws_secret, aws_region=region)"
   ]
  },
  {
   "cell_type": "code",
   "execution_count": 4,
   "id": "7e55e66d",
   "metadata": {},
   "outputs": [],
   "source": [
    "session = aws_get_session(region='us-east-1')"
   ]
  },
  {
   "cell_type": "code",
   "execution_count": 5,
   "id": "452ea00f",
   "metadata": {},
   "outputs": [],
   "source": [
    "table=\"rfo_load_enriched\""
   ]
  },
  {
   "cell_type": "code",
   "execution_count": 6,
   "id": "5fdf918f",
   "metadata": {},
   "outputs": [],
   "source": [
    "#for importing load data for MIDC\n",
    "names = tuple(Zone_names().values())\n",
    "# conditions='''WHERE region IN ('CAISO', 'NWPP', 'SOUTHWEST')\n",
    "#   AND datatype = 'temperature'\n",
    "#   AND CAST(datetime AS DATE) BETWEEN DATE '2016-01-01' AND DATE '2025-12-31' '''\n",
    "conditions=f'''WHERE name IN {names}\n",
    "    AND datatype = 'RTLOAD'\n",
    "    AND CAST(datetime AS DATE) BETWEEN DATE '2021-09-01' AND DATE '2025-12-31' '''"
   ]
  },
  {
   "cell_type": "code",
   "execution_count": 7,
   "id": "594af11e",
   "metadata": {},
   "outputs": [],
   "source": [
    "#To query all columns\n",
    "# table_info = wr.catalog.table(\n",
    "#     database=\"rfo_analytics\", \n",
    "#     table=table, \n",
    "#     boto3_session=session\n",
    "# )\n",
    "# columns = table_info['Column Name'].values\n",
    "\n",
    "#If you know which columns to query\n",
    "# columns = [\"datetime\",\"datatype\",\"avgvalue\",\"siteid\",\"name\",\"station_name\",\"state\",\"region\",\"location\",\"timezone\"] # for weather\n",
    "columns = [\"datetime\",\"name\",\"avgvalue\",\"objectid\",\"yes_objectid\",\"iso\",\"timezone\"]\n",
    "# Build SELECT clause with automatic datetime casting\n",
    "select_parts = []\n",
    "for col_name in columns:\n",
    "    if col_name.lower() == 'datetime':\n",
    "        select_parts.append(f\"CAST({col_name} AS timestamp) as {col_name}\")\n",
    "    else:\n",
    "        select_parts.append(col_name)\n",
    "\n",
    "select_clause = \",\\n    \".join(select_parts)\n",
    "\n",
    "# Build and execute query\n",
    "sql = f\"\"\"SELECT \n",
    "    {select_clause}\n",
    "FROM {table}\n",
    "{conditions}\n",
    "\"\"\"\n",
    "\n",
    "df = wr.athena.read_sql_query(\n",
    "    sql=sql,\n",
    "    database=\"rfo_analytics\",\n",
    "    boto3_session=session\n",
    ")"
   ]
  },
  {
   "cell_type": "code",
   "execution_count": 8,
   "id": "59915305",
   "metadata": {},
   "outputs": [],
   "source": [
    "#save df a csv file\n",
    "df.to_csv(f\"../data/RTLoad_MIDC+NW_1Sep21-latest.csv\", index=False)"
   ]
  },
  {
   "cell_type": "code",
   "execution_count": 14,
   "id": "a3d9cb00",
   "metadata": {},
   "outputs": [
    {
     "data": {
      "text/html": [
       "<div>\n",
       "<style scoped>\n",
       "    .dataframe tbody tr th:only-of-type {\n",
       "        vertical-align: middle;\n",
       "    }\n",
       "\n",
       "    .dataframe tbody tr th {\n",
       "        vertical-align: top;\n",
       "    }\n",
       "\n",
       "    .dataframe thead th {\n",
       "        text-align: right;\n",
       "    }\n",
       "</style>\n",
       "<table border=\"1\" class=\"dataframe\">\n",
       "  <thead>\n",
       "    <tr style=\"text-align: right;\">\n",
       "      <th></th>\n",
       "      <th>datetime</th>\n",
       "      <th>name</th>\n",
       "      <th>avgvalue</th>\n",
       "      <th>objectid</th>\n",
       "      <th>yes_objectid</th>\n",
       "      <th>iso</th>\n",
       "      <th>timezone</th>\n",
       "    </tr>\n",
       "  </thead>\n",
       "  <tbody>\n",
       "    <tr>\n",
       "      <th>0</th>\n",
       "      <td>2021-09-11 15:00:00</td>\n",
       "      <td>PACW-TAC</td>\n",
       "      <td>2009.0</td>\n",
       "      <td>L000082</td>\n",
       "      <td>10002702774</td>\n",
       "      <td>CAISO</td>\n",
       "      <td>America/Los_Angeles</td>\n",
       "    </tr>\n",
       "    <tr>\n",
       "      <th>1</th>\n",
       "      <td>2021-09-11 16:00:00</td>\n",
       "      <td>PACW-TAC</td>\n",
       "      <td>2093.0</td>\n",
       "      <td>L000082</td>\n",
       "      <td>10002702774</td>\n",
       "      <td>CAISO</td>\n",
       "      <td>America/Los_Angeles</td>\n",
       "    </tr>\n",
       "    <tr>\n",
       "      <th>2</th>\n",
       "      <td>2021-09-11 17:00:00</td>\n",
       "      <td>PACW-TAC</td>\n",
       "      <td>2145.0</td>\n",
       "      <td>L000082</td>\n",
       "      <td>10002702774</td>\n",
       "      <td>CAISO</td>\n",
       "      <td>America/Los_Angeles</td>\n",
       "    </tr>\n",
       "    <tr>\n",
       "      <th>3</th>\n",
       "      <td>2021-09-11 18:00:00</td>\n",
       "      <td>PACW-TAC</td>\n",
       "      <td>2187.0</td>\n",
       "      <td>L000082</td>\n",
       "      <td>10002702774</td>\n",
       "      <td>CAISO</td>\n",
       "      <td>America/Los_Angeles</td>\n",
       "    </tr>\n",
       "    <tr>\n",
       "      <th>4</th>\n",
       "      <td>2021-09-11 19:00:00</td>\n",
       "      <td>PACW-TAC</td>\n",
       "      <td>2220.0</td>\n",
       "      <td>L000082</td>\n",
       "      <td>10002702774</td>\n",
       "      <td>CAISO</td>\n",
       "      <td>America/Los_Angeles</td>\n",
       "    </tr>\n",
       "  </tbody>\n",
       "</table>\n",
       "</div>"
      ],
      "text/plain": [
       "             datetime      name  avgvalue objectid  yes_objectid    iso  \\\n",
       "0 2021-09-11 15:00:00  PACW-TAC    2009.0  L000082   10002702774  CAISO   \n",
       "1 2021-09-11 16:00:00  PACW-TAC    2093.0  L000082   10002702774  CAISO   \n",
       "2 2021-09-11 17:00:00  PACW-TAC    2145.0  L000082   10002702774  CAISO   \n",
       "3 2021-09-11 18:00:00  PACW-TAC    2187.0  L000082   10002702774  CAISO   \n",
       "4 2021-09-11 19:00:00  PACW-TAC    2220.0  L000082   10002702774  CAISO   \n",
       "\n",
       "              timezone  \n",
       "0  America/Los_Angeles  \n",
       "1  America/Los_Angeles  \n",
       "2  America/Los_Angeles  \n",
       "3  America/Los_Angeles  \n",
       "4  America/Los_Angeles  "
      ]
     },
     "execution_count": 14,
     "metadata": {},
     "output_type": "execute_result"
    }
   ],
   "source": [
    "df.head()"
   ]
  },
  {
   "cell_type": "code",
   "execution_count": 9,
   "id": "427ecd55",
   "metadata": {},
   "outputs": [
    {
     "ename": "NameError",
     "evalue": "name 'pd' is not defined",
     "output_type": "error",
     "traceback": [
      "\u001b[31m---------------------------------------------------------------------------\u001b[39m",
      "\u001b[31mNameError\u001b[39m                                 Traceback (most recent call last)",
      "\u001b[36mCell\u001b[39m\u001b[36m \u001b[39m\u001b[32mIn[9]\u001b[39m\u001b[32m, line 1\u001b[39m\n\u001b[32m----> \u001b[39m\u001b[32m1\u001b[39m \u001b[43mpd\u001b[49m.to_datetime(df[\u001b[33m'\u001b[39m\u001b[33mdatetime\u001b[39m\u001b[33m'\u001b[39m]).max().strftime(\u001b[33m'\u001b[39m\u001b[38;5;132;01m%d\u001b[39;00m\u001b[33m%\u001b[39m\u001b[33mm\u001b[39m\u001b[33m%\u001b[39m\u001b[33mY\u001b[39m\u001b[33m'\u001b[39m)\n",
      "\u001b[31mNameError\u001b[39m: name 'pd' is not defined"
     ]
    }
   ],
   "source": [
    "pd.to_datetime(df['datetime']).max().strftime('%d%m%Y')"
   ]
  },
  {
   "cell_type": "code",
   "execution_count": null,
   "id": "ffdb6bc5",
   "metadata": {},
   "outputs": [],
   "source": [
    "#print the last 'datetime' in the table\n",
    "sql = \"SELECT MAX(CAST(datetime AS DATE)) as last_datetime FROM \"+table\n",
    "last_datetime = wr.athena.read_sql_query(\n",
    "    sql=sql,\n",
    "    database=\"rfo_analytics\",\n",
    "    boto3_session=session\n",
    ")\n",
    "print(\"Last datetime in the table:\", last_datetime['last_datetime'].iloc[0])"
   ]
  },
  {
   "cell_type": "code",
   "execution_count": null,
   "id": "be04a068",
   "metadata": {},
   "outputs": [],
   "source": [
    "#print unique datatypes\n",
    "# checking all unique datatypes in the table\n",
    "sql = \"SELECT DISTINCT datatype FROM rfo_load_enriched\"\n",
    "unique_datatypes = wr.athena.read_sql_query(\n",
    "    sql=sql,\n",
    "    database=\"rfo_analytics\",\n",
    "    boto3_session=session\n",
    ")\n",
    "print(unique_datatypes['datatype'].tolist())"
   ]
  },
  {
   "cell_type": "code",
   "execution_count": null,
   "id": "5ed631b6",
   "metadata": {},
   "outputs": [
    {
     "name": "stdout",
     "output_type": "stream",
     "text": [
      "['Arizona Public Service Company', 'Associated Electric Cooperative, Inc.', 'Avista Corporation', 'BPA', 'Balancing Authority of Northern California', 'CAISO', 'California', 'Carolinas', 'Central', 'City of Tacoma, Department of Public Utilities', 'Duke Energy Carolinas', 'Duke Energy Florida, Inc.', 'Duke Energy Progress East', 'Duke Energy Progress West', 'El Paso Electric Company', 'Electric Energy, Inc.', 'Florida', 'Florida Municipal Power Pool', 'Florida Power & Light Co.', 'Gainesville Regional Utilities', 'Homestead, City of', 'Idaho Power Company', 'Imperial Irrigation District', 'JEA', 'LG&E and KU Services Company', 'Los Angeles Department of Water and Power', 'Mid-Atlantic', 'Midwest ISO', 'Midwest Region', 'NE-ISO Total', 'NYISO', 'NaturEner Wind Watch, LLC', 'Nevada Power Company', 'New England', 'New Smyrna Beach, Utilities Commission of', 'New York', 'NorthWestern Corporation', 'Northwest', 'Ohio Valley Electric Corporation', 'PUD No. 1 of Douglas County', 'PUD No. 2 of Grant County, Washington', 'PacifiCorp East', 'PacifiCorp West', 'Portland General Electric Company', 'PowerSouth Energy Cooperative', 'Public Service Company of Colorado', 'Public Service Company of New Mexico', 'Public Utility District No. 1 of Chelan County', 'Puget Sound Energy, Inc.', 'RTO COMBINED', 'Salt River Project', 'Seattle City Light', 'Seminole Electric Cooperative', 'South Carolina Electric & Gas Company', 'South Carolina Public Service Authority', 'Southeast', 'Southern Company Services, Inc. - Trans', 'Southwest', 'TVA', 'Tallahassee, City of', 'Tampa Electric Company', 'Tennessee', 'Tucson Electric Power', 'Turlock Irrigation District', 'United States Lower 48', 'WAPA - Desert Southwest Region', 'WAPA - Rocky Mountain Region', 'WAPA - Upper Great Plains West']\n"
     ]
    }
   ],
   "source": [
    "# checking all unique names in the table for datatype='EIA930_DEMAND'\n",
    "sql = \"SELECT DISTINCT name FROM rfo_load_enriched WHERE datatype='EIA930_DEMAND'\"\n",
    "unique_names = wr.athena.read_sql_query(\n",
    "    sql=sql,\n",
    "    database=\"rfo_analytics\",\n",
    "    boto3_session=session\n",
    ")\n",
    "\n",
    "print(sorted(unique_names['name'].tolist()))"
   ]
  },
  {
   "cell_type": "code",
   "execution_count": null,
   "id": "c1a0809d",
   "metadata": {},
   "outputs": [
    {
     "name": "stdout",
     "output_type": "stream",
     "text": [
      "['.Z.CONNECTICUT', '.Z.MAINE', '.Z.NEMASSBOST', '.Z.NEWHAMPSHIRE', '.Z.RHODEISLAND', '.Z.SEMASS', '.Z.VERMONT', '.Z.WCMASS', 'AECO', 'AECO Sub Zone', 'AEP', 'AEPAPT', 'AEPIMP', 'AEPKPT', 'AEPOPT', 'AP', 'ATSI', 'AVRN', 'Arizona Public Service Company', 'Avista Corporation', 'BANCMID', 'BANCRDNG', 'BANCRSVL', 'BANCSMUD', 'BANCWASN', 'BGE', 'BPA', 'Balancing Authority of Northern California', 'CAISO', 'CAPITL', 'CENTRL', 'CNCT', 'COMED', 'Central', 'Central (old)', 'City of Tacoma, Department of Public Utilities', 'DAYTON', 'DEOK', 'DOMINION', 'DPL', 'DPLCO', 'DUNWOOD', 'DUQUESNE', 'EASTON', 'EKPC (PJMISO)', 'East (old)', 'El Paso Electric Company', 'GENESE', 'GPU', 'HUDVL', 'Idaho Power Company', 'JCPL', 'LADWP', 'LONGIL', 'METED', 'MHKVL', 'MID-ATLANTIC REGION', 'MILLWD', 'MWD-TAC', 'Midwest ISO', 'NE-ISO Total', 'NEVP-TAC', 'NORTH (NYISO)', 'NYC', 'NYISO', 'North', 'NorthWestern Corporation', 'OE', 'OVEC', 'PACE-TAC', 'PACW-TAC', 'PAPWR', 'PECO', 'PENELEC', 'PEPCO', 'PEPCO Sub Zone', 'PGE', 'PLCO', 'PPL', 'PSEG', 'Portland General Electric Company', 'Public Service Company of New Mexico', 'Puget Sound Energy, Inc.', 'RECO', 'RFC', 'RTO COMBINED', 'SCE', 'SDGE', 'SMECO', 'SOUTHERN REGION', 'Salt River Project', 'Seattle City Light', 'South', 'Tucson Electric Power', 'Turlock Irrigation District', 'UG', 'UGI', 'VEA', 'VMEU', 'WALCAEPCO', 'WALCDSW', 'WAPA - Desert Southwest Region', 'WEST (NYISO)', 'WESTERN REGION', 'West (old)']\n"
     ]
    }
   ],
   "source": [
    "# checking all unique names in the table for datatype='EIA930_DEMAND'\n",
    "sql = \"SELECT DISTINCT name FROM rfo_load_enriched WHERE datatype='RTLOAD'\"\n",
    "unique_names = wr.athena.read_sql_query(\n",
    "    sql=sql,\n",
    "    database=\"rfo_analytics\",\n",
    "    boto3_session=session\n",
    ")\n",
    "print(sorted(unique_names['name'].tolist()))"
   ]
  },
  {
   "cell_type": "code",
   "execution_count": null,
   "id": "5b01954e",
   "metadata": {},
   "outputs": [],
   "source": []
  }
 ],
 "metadata": {
  "kernelspec": {
   "display_name": "MLRuken",
   "language": "python",
   "name": "python3"
  },
  "language_info": {
   "codemirror_mode": {
    "name": "ipython",
    "version": 3
   },
   "file_extension": ".py",
   "mimetype": "text/x-python",
   "name": "python",
   "nbconvert_exporter": "python",
   "pygments_lexer": "ipython3",
   "version": "3.12.11"
  }
 },
 "nbformat": 4,
 "nbformat_minor": 5
}
