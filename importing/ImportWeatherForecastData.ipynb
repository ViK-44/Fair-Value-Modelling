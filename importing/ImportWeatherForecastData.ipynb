{
 "cells": [
  {
   "cell_type": "code",
   "execution_count": 1,
   "id": "6ab40b65",
   "metadata": {},
   "outputs": [],
   "source": [
    "from rfo_core.aws.iam import get_aws_session\n",
    "from rfo_core.configuration import (aws_key, aws_secret, aws_region_default)\n",
    "import awswrangler as wr\n",
    "import boto3 as bt"
   ]
  },
  {
   "cell_type": "code",
   "execution_count": 2,
   "id": "4edfa61b",
   "metadata": {},
   "outputs": [],
   "source": [
    "def aws_get_session(region: str = aws_region_default) -> bt.Session:\n",
    "    return get_aws_session(aws_key=aws_key, aws_secret=aws_secret, aws_region=region)\n",
    "session = aws_get_session(region='us-east-1')"
   ]
  },
  {
   "cell_type": "code",
   "execution_count": 5,
   "id": "452ea00f",
   "metadata": {},
   "outputs": [],
   "source": [
    "db = \"rfo_analytics\"\n",
    "table=\"rfo_weather_hourly_forecasts_enriched\""
   ]
  },
  {
   "cell_type": "code",
   "execution_count": 6,
   "id": "712614c4",
   "metadata": {},
   "outputs": [
    {
     "name": "stdout",
     "output_type": "stream",
     "text": [
      "Latest model_date in rfo_weather_hourly_forecasts_enriched: 2025-09-23\n"
     ]
    }
   ],
   "source": [
    "#checking the last 'model_date' value in the table\n",
    "df = wr.athena.read_sql_query(f\"SELECT DISTINCT model_date FROM {table} ORDER BY model_date DESC LIMIT 1\", database=db, boto3_session=session)\n",
    "latest_model_date = df['model_date'].iloc[0]\n",
    "print(f\"Latest model_date in {table}: {latest_model_date}\")"
   ]
  },
  {
   "cell_type": "code",
   "execution_count": null,
   "id": "0e3acd4b",
   "metadata": {},
   "outputs": [
    {
     "ename": "KeyboardInterrupt",
     "evalue": "",
     "output_type": "error",
     "traceback": [
      "\u001b[31m---------------------------------------------------------------------------\u001b[39m",
      "\u001b[31mKeyboardInterrupt\u001b[39m                         Traceback (most recent call last)",
      "\u001b[36mCell\u001b[39m\u001b[36m \u001b[39m\u001b[32mIn[4]\u001b[39m\u001b[32m, line 5\u001b[39m\n\u001b[32m      3\u001b[39m \u001b[38;5;28;01mfor\u001b[39;00m things \u001b[38;5;129;01min\u001b[39;00m [\u001b[33m'\u001b[39m\u001b[33mmodel_name\u001b[39m\u001b[33m'\u001b[39m, \u001b[33m'\u001b[39m\u001b[33mdatatype\u001b[39m\u001b[33m'\u001b[39m]:\n\u001b[32m      4\u001b[39m     sql = \u001b[33mf\u001b[39m\u001b[33m\"\u001b[39m\u001b[33mSELECT DISTINCT \u001b[39m\u001b[38;5;132;01m{\u001b[39;00mthings\u001b[38;5;132;01m}\u001b[39;00m\u001b[33m, \u001b[39m\u001b[33m'\u001b[39m\u001b[33mCAISO\u001b[39m\u001b[33m'\u001b[39m\u001b[33m as iso FROM \u001b[39m\u001b[38;5;132;01m{\u001b[39;00mtable\u001b[38;5;132;01m}\u001b[39;00m\u001b[33m\"\u001b[39m\n\u001b[32m----> \u001b[39m\u001b[32m5\u001b[39m     unique_datatypes[things] = \u001b[43mwr\u001b[49m\u001b[43m.\u001b[49m\u001b[43mathena\u001b[49m\u001b[43m.\u001b[49m\u001b[43mread_sql_query\u001b[49m\u001b[43m(\u001b[49m\n\u001b[32m      6\u001b[39m \u001b[43m        \u001b[49m\u001b[43msql\u001b[49m\u001b[43m=\u001b[49m\u001b[43msql\u001b[49m\u001b[43m,\u001b[49m\n\u001b[32m      7\u001b[39m \u001b[43m        \u001b[49m\u001b[43mdatabase\u001b[49m\u001b[43m=\u001b[49m\u001b[33;43m\"\u001b[39;49m\u001b[33;43mrfo_analytics\u001b[39;49m\u001b[33;43m\"\u001b[39;49m\u001b[43m,\u001b[49m\n\u001b[32m      8\u001b[39m \u001b[43m        \u001b[49m\u001b[43mboto3_session\u001b[49m\u001b[43m=\u001b[49m\u001b[43msession\u001b[49m\n\u001b[32m      9\u001b[39m \u001b[43m    \u001b[49m\u001b[43m)\u001b[49m\n",
      "\u001b[36mFile \u001b[39m\u001b[32mc:\\Users\\kumar\\anaconda3\\envs\\MLRuken\\Lib\\site-packages\\awswrangler\\_config.py:712\u001b[39m, in \u001b[36mapply_configs.<locals>.wrapper\u001b[39m\u001b[34m(*args_raw, **kwargs)\u001b[39m\n\u001b[32m    710\u001b[39m         \u001b[38;5;28;01mdel\u001b[39;00m args[name]\n\u001b[32m    711\u001b[39m         args = {**args, **keywords}\n\u001b[32m--> \u001b[39m\u001b[32m712\u001b[39m \u001b[38;5;28;01mreturn\u001b[39;00m \u001b[43mfunction\u001b[49m\u001b[43m(\u001b[49m\u001b[43m*\u001b[49m\u001b[43m*\u001b[49m\u001b[43margs\u001b[49m\u001b[43m)\u001b[49m\n",
      "\u001b[36mFile \u001b[39m\u001b[32mc:\\Users\\kumar\\anaconda3\\envs\\MLRuken\\Lib\\site-packages\\awswrangler\\_utils.py:178\u001b[39m, in \u001b[36mvalidate_kwargs.<locals>.decorator.<locals>.inner\u001b[39m\u001b[34m(*args, **kwargs)\u001b[39m\n\u001b[32m    175\u001b[39m \u001b[38;5;28;01mif\u001b[39;00m condition_fn() \u001b[38;5;129;01mand\u001b[39;00m \u001b[38;5;28mlen\u001b[39m(passed_unsupported_kwargs) > \u001b[32m0\u001b[39m:\n\u001b[32m    176\u001b[39m     \u001b[38;5;28;01mraise\u001b[39;00m exceptions.InvalidArgument(\u001b[33mf\u001b[39m\u001b[33m\"\u001b[39m\u001b[38;5;132;01m{\u001b[39;00mmessage\u001b[38;5;132;01m}\u001b[39;00m\u001b[33m `\u001b[39m\u001b[38;5;132;01m{\u001b[39;00m\u001b[33m'\u001b[39m\u001b[33m, \u001b[39m\u001b[33m'\u001b[39m.join(passed_unsupported_kwargs)\u001b[38;5;132;01m}\u001b[39;00m\u001b[33m`.\u001b[39m\u001b[33m\"\u001b[39m)\n\u001b[32m--> \u001b[39m\u001b[32m178\u001b[39m \u001b[38;5;28;01mreturn\u001b[39;00m \u001b[43mfunc\u001b[49m\u001b[43m(\u001b[49m\u001b[43m*\u001b[49m\u001b[43margs\u001b[49m\u001b[43m,\u001b[49m\u001b[43m \u001b[49m\u001b[43m*\u001b[49m\u001b[43m*\u001b[49m\u001b[43mkwargs\u001b[49m\u001b[43m)\u001b[49m\n",
      "\u001b[36mFile \u001b[39m\u001b[32mc:\\Users\\kumar\\anaconda3\\envs\\MLRuken\\Lib\\site-packages\\awswrangler\\athena\\_read.py:1083\u001b[39m, in \u001b[36mread_sql_query\u001b[39m\u001b[34m(sql, database, ctas_approach, unload_approach, ctas_parameters, unload_parameters, categories, chunksize, s3_output, workgroup, encryption, kms_key, keep_files, use_threads, boto3_session, client_request_token, athena_cache_settings, data_source, athena_query_wait_polling_delay, params, paramstyle, dtype_backend, s3_additional_kwargs, pyarrow_additional_kwargs)\u001b[39m\n\u001b[32m   1080\u001b[39m ctas_bucketing_info = ctas_parameters.get(\u001b[33m\"\u001b[39m\u001b[33mbucketing_info\u001b[39m\u001b[33m\"\u001b[39m)\n\u001b[32m   1081\u001b[39m ctas_write_compression = ctas_parameters.get(\u001b[33m\"\u001b[39m\u001b[33mcompression\u001b[39m\u001b[33m\"\u001b[39m)\n\u001b[32m-> \u001b[39m\u001b[32m1083\u001b[39m \u001b[38;5;28;01mreturn\u001b[39;00m \u001b[43m_resolve_query_without_cache\u001b[49m\u001b[43m(\u001b[49m\n\u001b[32m   1084\u001b[39m \u001b[43m    \u001b[49m\u001b[43msql\u001b[49m\u001b[43m=\u001b[49m\u001b[43msql\u001b[49m\u001b[43m,\u001b[49m\n\u001b[32m   1085\u001b[39m \u001b[43m    \u001b[49m\u001b[43mdatabase\u001b[49m\u001b[43m=\u001b[49m\u001b[43mdatabase\u001b[49m\u001b[43m,\u001b[49m\n\u001b[32m   1086\u001b[39m \u001b[43m    \u001b[49m\u001b[43mdata_source\u001b[49m\u001b[43m=\u001b[49m\u001b[43mdata_source\u001b[49m\u001b[43m,\u001b[49m\n\u001b[32m   1087\u001b[39m \u001b[43m    \u001b[49m\u001b[43mctas_approach\u001b[49m\u001b[43m=\u001b[49m\u001b[43mctas_approach\u001b[49m\u001b[43m,\u001b[49m\n\u001b[32m   1088\u001b[39m \u001b[43m    \u001b[49m\u001b[43munload_approach\u001b[49m\u001b[43m=\u001b[49m\u001b[43munload_approach\u001b[49m\u001b[43m,\u001b[49m\n\u001b[32m   1089\u001b[39m \u001b[43m    \u001b[49m\u001b[43munload_parameters\u001b[49m\u001b[43m=\u001b[49m\u001b[43munload_parameters\u001b[49m\u001b[43m,\u001b[49m\n\u001b[32m   1090\u001b[39m \u001b[43m    \u001b[49m\u001b[43mcategories\u001b[49m\u001b[43m=\u001b[49m\u001b[43mcategories\u001b[49m\u001b[43m,\u001b[49m\n\u001b[32m   1091\u001b[39m \u001b[43m    \u001b[49m\u001b[43mchunksize\u001b[49m\u001b[43m=\u001b[49m\u001b[43mchunksize\u001b[49m\u001b[43m,\u001b[49m\n\u001b[32m   1092\u001b[39m \u001b[43m    \u001b[49m\u001b[43ms3_output\u001b[49m\u001b[43m=\u001b[49m\u001b[43ms3_output\u001b[49m\u001b[43m,\u001b[49m\n\u001b[32m   1093\u001b[39m \u001b[43m    \u001b[49m\u001b[43mworkgroup\u001b[49m\u001b[43m=\u001b[49m\u001b[43mworkgroup\u001b[49m\u001b[43m,\u001b[49m\n\u001b[32m   1094\u001b[39m \u001b[43m    \u001b[49m\u001b[43mencryption\u001b[49m\u001b[43m=\u001b[49m\u001b[43mencryption\u001b[49m\u001b[43m,\u001b[49m\n\u001b[32m   1095\u001b[39m \u001b[43m    \u001b[49m\u001b[43mkms_key\u001b[49m\u001b[43m=\u001b[49m\u001b[43mkms_key\u001b[49m\u001b[43m,\u001b[49m\n\u001b[32m   1096\u001b[39m \u001b[43m    \u001b[49m\u001b[43mkeep_files\u001b[49m\u001b[43m=\u001b[49m\u001b[43mkeep_files\u001b[49m\u001b[43m,\u001b[49m\n\u001b[32m   1097\u001b[39m \u001b[43m    \u001b[49m\u001b[43mctas_database\u001b[49m\u001b[43m=\u001b[49m\u001b[43mctas_database\u001b[49m\u001b[43m,\u001b[49m\n\u001b[32m   1098\u001b[39m \u001b[43m    \u001b[49m\u001b[43mctas_temp_table_name\u001b[49m\u001b[43m=\u001b[49m\u001b[43mctas_temp_table_name\u001b[49m\u001b[43m,\u001b[49m\n\u001b[32m   1099\u001b[39m \u001b[43m    \u001b[49m\u001b[43mctas_bucketing_info\u001b[49m\u001b[43m=\u001b[49m\u001b[43mctas_bucketing_info\u001b[49m\u001b[43m,\u001b[49m\n\u001b[32m   1100\u001b[39m \u001b[43m    \u001b[49m\u001b[43mctas_write_compression\u001b[49m\u001b[43m=\u001b[49m\u001b[43mctas_write_compression\u001b[49m\u001b[43m,\u001b[49m\n\u001b[32m   1101\u001b[39m \u001b[43m    \u001b[49m\u001b[43mathena_query_wait_polling_delay\u001b[49m\u001b[43m=\u001b[49m\u001b[43mathena_query_wait_polling_delay\u001b[49m\u001b[43m,\u001b[49m\n\u001b[32m   1102\u001b[39m \u001b[43m    \u001b[49m\u001b[43muse_threads\u001b[49m\u001b[43m=\u001b[49m\u001b[43muse_threads\u001b[49m\u001b[43m,\u001b[49m\n\u001b[32m   1103\u001b[39m \u001b[43m    \u001b[49m\u001b[43ms3_additional_kwargs\u001b[49m\u001b[43m=\u001b[49m\u001b[43ms3_additional_kwargs\u001b[49m\u001b[43m,\u001b[49m\n\u001b[32m   1104\u001b[39m \u001b[43m    \u001b[49m\u001b[43mboto3_session\u001b[49m\u001b[43m=\u001b[49m\u001b[43mboto3_session\u001b[49m\u001b[43m,\u001b[49m\n\u001b[32m   1105\u001b[39m \u001b[43m    \u001b[49m\u001b[43mpyarrow_additional_kwargs\u001b[49m\u001b[43m=\u001b[49m\u001b[43mpyarrow_additional_kwargs\u001b[49m\u001b[43m,\u001b[49m\n\u001b[32m   1106\u001b[39m \u001b[43m    \u001b[49m\u001b[43mexecution_params\u001b[49m\u001b[43m=\u001b[49m\u001b[43mexecution_params\u001b[49m\u001b[43m,\u001b[49m\n\u001b[32m   1107\u001b[39m \u001b[43m    \u001b[49m\u001b[43mdtype_backend\u001b[49m\u001b[43m=\u001b[49m\u001b[43mdtype_backend\u001b[49m\u001b[43m,\u001b[49m\n\u001b[32m   1108\u001b[39m \u001b[43m    \u001b[49m\u001b[43mclient_request_token\u001b[49m\u001b[43m=\u001b[49m\u001b[43mclient_request_token\u001b[49m\u001b[43m,\u001b[49m\n\u001b[32m   1109\u001b[39m \u001b[43m\u001b[49m\u001b[43m)\u001b[49m\n",
      "\u001b[36mFile \u001b[39m\u001b[32mc:\\Users\\kumar\\anaconda3\\envs\\MLRuken\\Lib\\site-packages\\awswrangler\\athena\\_read.py:508\u001b[39m, in \u001b[36m_resolve_query_without_cache\u001b[39m\u001b[34m(sql, database, data_source, ctas_approach, unload_approach, unload_parameters, categories, chunksize, s3_output, workgroup, encryption, kms_key, keep_files, ctas_database, ctas_temp_table_name, ctas_bucketing_info, ctas_write_compression, athena_query_wait_polling_delay, use_threads, s3_additional_kwargs, boto3_session, pyarrow_additional_kwargs, execution_params, dtype_backend, client_request_token)\u001b[39m\n\u001b[32m    506\u001b[39m     name = \u001b[33mf\u001b[39m\u001b[33m\"\u001b[39m\u001b[33mtemp_table_\u001b[39m\u001b[38;5;132;01m{\u001b[39;00muuid.uuid4().hex\u001b[38;5;132;01m}\u001b[39;00m\u001b[33m\"\u001b[39m\n\u001b[32m    507\u001b[39m \u001b[38;5;28;01mtry\u001b[39;00m:\n\u001b[32m--> \u001b[39m\u001b[32m508\u001b[39m     \u001b[38;5;28;01mreturn\u001b[39;00m \u001b[43m_resolve_query_without_cache_ctas\u001b[49m\u001b[43m(\u001b[49m\n\u001b[32m    509\u001b[39m \u001b[43m        \u001b[49m\u001b[43msql\u001b[49m\u001b[43m=\u001b[49m\u001b[43msql\u001b[49m\u001b[43m,\u001b[49m\n\u001b[32m    510\u001b[39m \u001b[43m        \u001b[49m\u001b[43mdatabase\u001b[49m\u001b[43m=\u001b[49m\u001b[43mdatabase\u001b[49m\u001b[43m,\u001b[49m\n\u001b[32m    511\u001b[39m \u001b[43m        \u001b[49m\u001b[43mdata_source\u001b[49m\u001b[43m=\u001b[49m\u001b[43mdata_source\u001b[49m\u001b[43m,\u001b[49m\n\u001b[32m    512\u001b[39m \u001b[43m        \u001b[49m\u001b[43ms3_output\u001b[49m\u001b[43m=\u001b[49m\u001b[43ms3_output\u001b[49m\u001b[43m,\u001b[49m\n\u001b[32m    513\u001b[39m \u001b[43m        \u001b[49m\u001b[43mkeep_files\u001b[49m\u001b[43m=\u001b[49m\u001b[43mkeep_files\u001b[49m\u001b[43m,\u001b[49m\n\u001b[32m    514\u001b[39m \u001b[43m        \u001b[49m\u001b[43mchunksize\u001b[49m\u001b[43m=\u001b[49m\u001b[43mchunksize\u001b[49m\u001b[43m,\u001b[49m\n\u001b[32m    515\u001b[39m \u001b[43m        \u001b[49m\u001b[43mcategories\u001b[49m\u001b[43m=\u001b[49m\u001b[43mcategories\u001b[49m\u001b[43m,\u001b[49m\n\u001b[32m    516\u001b[39m \u001b[43m        \u001b[49m\u001b[43mencryption\u001b[49m\u001b[43m=\u001b[49m\u001b[43mencryption\u001b[49m\u001b[43m,\u001b[49m\n\u001b[32m    517\u001b[39m \u001b[43m        \u001b[49m\u001b[43mworkgroup\u001b[49m\u001b[43m=\u001b[49m\u001b[43mworkgroup\u001b[49m\u001b[43m,\u001b[49m\n\u001b[32m    518\u001b[39m \u001b[43m        \u001b[49m\u001b[43mkms_key\u001b[49m\u001b[43m=\u001b[49m\u001b[43mkms_key\u001b[49m\u001b[43m,\u001b[49m\n\u001b[32m    519\u001b[39m \u001b[43m        \u001b[49m\u001b[43malt_database\u001b[49m\u001b[43m=\u001b[49m\u001b[43mctas_database\u001b[49m\u001b[43m,\u001b[49m\n\u001b[32m    520\u001b[39m \u001b[43m        \u001b[49m\u001b[43mname\u001b[49m\u001b[43m=\u001b[49m\u001b[43mname\u001b[49m\u001b[43m,\u001b[49m\n\u001b[32m    521\u001b[39m \u001b[43m        \u001b[49m\u001b[43mctas_bucketing_info\u001b[49m\u001b[43m=\u001b[49m\u001b[43mctas_bucketing_info\u001b[49m\u001b[43m,\u001b[49m\n\u001b[32m    522\u001b[39m \u001b[43m        \u001b[49m\u001b[43mctas_write_compression\u001b[49m\u001b[43m=\u001b[49m\u001b[43mctas_write_compression\u001b[49m\u001b[43m,\u001b[49m\n\u001b[32m    523\u001b[39m \u001b[43m        \u001b[49m\u001b[43mathena_query_wait_polling_delay\u001b[49m\u001b[43m=\u001b[49m\u001b[43mathena_query_wait_polling_delay\u001b[49m\u001b[43m,\u001b[49m\n\u001b[32m    524\u001b[39m \u001b[43m        \u001b[49m\u001b[43muse_threads\u001b[49m\u001b[43m=\u001b[49m\u001b[43muse_threads\u001b[49m\u001b[43m,\u001b[49m\n\u001b[32m    525\u001b[39m \u001b[43m        \u001b[49m\u001b[43ms3_additional_kwargs\u001b[49m\u001b[43m=\u001b[49m\u001b[43ms3_additional_kwargs\u001b[49m\u001b[43m,\u001b[49m\n\u001b[32m    526\u001b[39m \u001b[43m        \u001b[49m\u001b[43mboto3_session\u001b[49m\u001b[43m=\u001b[49m\u001b[43mboto3_session\u001b[49m\u001b[43m,\u001b[49m\n\u001b[32m    527\u001b[39m \u001b[43m        \u001b[49m\u001b[43mpyarrow_additional_kwargs\u001b[49m\u001b[43m=\u001b[49m\u001b[43mpyarrow_additional_kwargs\u001b[49m\u001b[43m,\u001b[49m\n\u001b[32m    528\u001b[39m \u001b[43m        \u001b[49m\u001b[43mexecution_params\u001b[49m\u001b[43m=\u001b[49m\u001b[43mexecution_params\u001b[49m\u001b[43m,\u001b[49m\n\u001b[32m    529\u001b[39m \u001b[43m        \u001b[49m\u001b[43mdtype_backend\u001b[49m\u001b[43m=\u001b[49m\u001b[43mdtype_backend\u001b[49m\u001b[43m,\u001b[49m\n\u001b[32m    530\u001b[39m \u001b[43m    \u001b[49m\u001b[43m)\u001b[49m\n\u001b[32m    531\u001b[39m \u001b[38;5;28;01mfinally\u001b[39;00m:\n\u001b[32m    532\u001b[39m     catalog.delete_table_if_exists(database=ctas_database \u001b[38;5;129;01mor\u001b[39;00m database, table=name, boto3_session=boto3_session)\n",
      "\u001b[36mFile \u001b[39m\u001b[32mc:\\Users\\kumar\\anaconda3\\envs\\MLRuken\\Lib\\site-packages\\awswrangler\\athena\\_read.py:325\u001b[39m, in \u001b[36m_resolve_query_without_cache_ctas\u001b[39m\u001b[34m(sql, database, data_source, s3_output, keep_files, chunksize, categories, encryption, workgroup, kms_key, alt_database, name, ctas_bucketing_info, ctas_write_compression, athena_query_wait_polling_delay, use_threads, s3_additional_kwargs, boto3_session, pyarrow_additional_kwargs, execution_params, dtype_backend)\u001b[39m\n\u001b[32m    302\u001b[39m \u001b[38;5;28;01mdef\u001b[39;00m\u001b[38;5;250m \u001b[39m\u001b[34m_resolve_query_without_cache_ctas\u001b[39m(\n\u001b[32m    303\u001b[39m     sql: \u001b[38;5;28mstr\u001b[39m,\n\u001b[32m    304\u001b[39m     database: \u001b[38;5;28mstr\u001b[39m | \u001b[38;5;28;01mNone\u001b[39;00m,\n\u001b[32m   (...)\u001b[39m\u001b[32m    323\u001b[39m     dtype_backend: Literal[\u001b[33m\"\u001b[39m\u001b[33mnumpy_nullable\u001b[39m\u001b[33m\"\u001b[39m, \u001b[33m\"\u001b[39m\u001b[33mpyarrow\u001b[39m\u001b[33m\"\u001b[39m] = \u001b[33m\"\u001b[39m\u001b[33mnumpy_nullable\u001b[39m\u001b[33m\"\u001b[39m,\n\u001b[32m    324\u001b[39m ) -> pd.DataFrame | Iterator[pd.DataFrame]:\n\u001b[32m--> \u001b[39m\u001b[32m325\u001b[39m     ctas_query_info: \u001b[38;5;28mdict\u001b[39m[\u001b[38;5;28mstr\u001b[39m, \u001b[38;5;28mstr\u001b[39m | _QueryMetadata] = \u001b[43mcreate_ctas_table\u001b[49m\u001b[43m(\u001b[49m\n\u001b[32m    326\u001b[39m \u001b[43m        \u001b[49m\u001b[43msql\u001b[49m\u001b[43m=\u001b[49m\u001b[43msql\u001b[49m\u001b[43m,\u001b[49m\n\u001b[32m    327\u001b[39m \u001b[43m        \u001b[49m\u001b[43mdatabase\u001b[49m\u001b[43m=\u001b[49m\u001b[43mdatabase\u001b[49m\u001b[43m,\u001b[49m\n\u001b[32m    328\u001b[39m \u001b[43m        \u001b[49m\u001b[43mctas_table\u001b[49m\u001b[43m=\u001b[49m\u001b[43mname\u001b[49m\u001b[43m,\u001b[49m\n\u001b[32m    329\u001b[39m \u001b[43m        \u001b[49m\u001b[43mctas_database\u001b[49m\u001b[43m=\u001b[49m\u001b[43malt_database\u001b[49m\u001b[43m,\u001b[49m\n\u001b[32m    330\u001b[39m \u001b[43m        \u001b[49m\u001b[43mbucketing_info\u001b[49m\u001b[43m=\u001b[49m\u001b[43mctas_bucketing_info\u001b[49m\u001b[43m,\u001b[49m\n\u001b[32m    331\u001b[39m \u001b[43m        \u001b[49m\u001b[43mdata_source\u001b[49m\u001b[43m=\u001b[49m\u001b[43mdata_source\u001b[49m\u001b[43m,\u001b[49m\n\u001b[32m    332\u001b[39m \u001b[43m        \u001b[49m\u001b[43ms3_output\u001b[49m\u001b[43m=\u001b[49m\u001b[43ms3_output\u001b[49m\u001b[43m,\u001b[49m\n\u001b[32m    333\u001b[39m \u001b[43m        \u001b[49m\u001b[43mworkgroup\u001b[49m\u001b[43m=\u001b[49m\u001b[43mworkgroup\u001b[49m\u001b[43m,\u001b[49m\n\u001b[32m    334\u001b[39m \u001b[43m        \u001b[49m\u001b[43mencryption\u001b[49m\u001b[43m=\u001b[49m\u001b[43mencryption\u001b[49m\u001b[43m,\u001b[49m\n\u001b[32m    335\u001b[39m \u001b[43m        \u001b[49m\u001b[43mwrite_compression\u001b[49m\u001b[43m=\u001b[49m\u001b[43mctas_write_compression\u001b[49m\u001b[43m,\u001b[49m\n\u001b[32m    336\u001b[39m \u001b[43m        \u001b[49m\u001b[43mkms_key\u001b[49m\u001b[43m=\u001b[49m\u001b[43mkms_key\u001b[49m\u001b[43m,\u001b[49m\n\u001b[32m    337\u001b[39m \u001b[43m        \u001b[49m\u001b[43mwait\u001b[49m\u001b[43m=\u001b[49m\u001b[38;5;28;43;01mTrue\u001b[39;49;00m\u001b[43m,\u001b[49m\n\u001b[32m    338\u001b[39m \u001b[43m        \u001b[49m\u001b[43mathena_query_wait_polling_delay\u001b[49m\u001b[43m=\u001b[49m\u001b[43mathena_query_wait_polling_delay\u001b[49m\u001b[43m,\u001b[49m\n\u001b[32m    339\u001b[39m \u001b[43m        \u001b[49m\u001b[43mboto3_session\u001b[49m\u001b[43m=\u001b[49m\u001b[43mboto3_session\u001b[49m\u001b[43m,\u001b[49m\n\u001b[32m    340\u001b[39m \u001b[43m        \u001b[49m\u001b[43mparams\u001b[49m\u001b[43m=\u001b[49m\u001b[43mexecution_params\u001b[49m\u001b[43m,\u001b[49m\n\u001b[32m    341\u001b[39m \u001b[43m        \u001b[49m\u001b[43mparamstyle\u001b[49m\u001b[43m=\u001b[49m\u001b[33;43m\"\u001b[39;49m\u001b[33;43mqmark\u001b[39;49m\u001b[33;43m\"\u001b[39;49m\u001b[43m,\u001b[49m\n\u001b[32m    342\u001b[39m \u001b[43m    \u001b[49m\u001b[43m)\u001b[49m\n\u001b[32m    343\u001b[39m     fully_qualified_name: \u001b[38;5;28mstr\u001b[39m = \u001b[33mf\u001b[39m\u001b[33m'\u001b[39m\u001b[33m\"\u001b[39m\u001b[38;5;132;01m{\u001b[39;00mctas_query_info[\u001b[33m\"\u001b[39m\u001b[33mctas_database\u001b[39m\u001b[33m\"\u001b[39m]\u001b[38;5;132;01m}\u001b[39;00m\u001b[33m\"\u001b[39m\u001b[33m.\u001b[39m\u001b[33m\"\u001b[39m\u001b[38;5;132;01m{\u001b[39;00mctas_query_info[\u001b[33m\"\u001b[39m\u001b[33mctas_table\u001b[39m\u001b[33m\"\u001b[39m]\u001b[38;5;132;01m}\u001b[39;00m\u001b[33m\"\u001b[39m\u001b[33m'\u001b[39m\n\u001b[32m    344\u001b[39m     ctas_query_metadata = cast(_QueryMetadata, ctas_query_info[\u001b[33m\"\u001b[39m\u001b[33mctas_query_metadata\u001b[39m\u001b[33m\"\u001b[39m])\n",
      "\u001b[36mFile \u001b[39m\u001b[32mc:\\Users\\kumar\\anaconda3\\envs\\MLRuken\\Lib\\site-packages\\awswrangler\\_config.py:712\u001b[39m, in \u001b[36mapply_configs.<locals>.wrapper\u001b[39m\u001b[34m(*args_raw, **kwargs)\u001b[39m\n\u001b[32m    710\u001b[39m         \u001b[38;5;28;01mdel\u001b[39;00m args[name]\n\u001b[32m    711\u001b[39m         args = {**args, **keywords}\n\u001b[32m--> \u001b[39m\u001b[32m712\u001b[39m \u001b[38;5;28;01mreturn\u001b[39;00m \u001b[43mfunction\u001b[49m\u001b[43m(\u001b[49m\u001b[43m*\u001b[49m\u001b[43m*\u001b[49m\u001b[43margs\u001b[49m\u001b[43m)\u001b[49m\n",
      "\u001b[36mFile \u001b[39m\u001b[32mc:\\Users\\kumar\\anaconda3\\envs\\MLRuken\\Lib\\site-packages\\awswrangler\\athena\\_utils.py:847\u001b[39m, in \u001b[36mcreate_ctas_table\u001b[39m\u001b[34m(sql, database, ctas_table, ctas_database, s3_output, storage_format, write_compression, partitioning_info, bucketing_info, field_delimiter, schema_only, workgroup, data_source, encryption, kms_key, categories, wait, athena_query_wait_polling_delay, execution_params, params, paramstyle, boto3_session)\u001b[39m\n\u001b[32m    845\u001b[39m \u001b[38;5;28;01mif\u001b[39;00m wait:\n\u001b[32m    846\u001b[39m     \u001b[38;5;28;01mtry\u001b[39;00m:\n\u001b[32m--> \u001b[39m\u001b[32m847\u001b[39m         response[\u001b[33m\"\u001b[39m\u001b[33mctas_query_metadata\u001b[39m\u001b[33m\"\u001b[39m] = \u001b[43m_get_query_metadata\u001b[49m\u001b[43m(\u001b[49m\n\u001b[32m    848\u001b[39m \u001b[43m            \u001b[49m\u001b[43mquery_execution_id\u001b[49m\u001b[43m=\u001b[49m\u001b[43mquery_execution_id\u001b[49m\u001b[43m,\u001b[49m\n\u001b[32m    849\u001b[39m \u001b[43m            \u001b[49m\u001b[43mboto3_session\u001b[49m\u001b[43m=\u001b[49m\u001b[43mboto3_session\u001b[49m\u001b[43m,\u001b[49m\n\u001b[32m    850\u001b[39m \u001b[43m            \u001b[49m\u001b[43mcategories\u001b[49m\u001b[43m=\u001b[49m\u001b[43mcategories\u001b[49m\u001b[43m,\u001b[49m\n\u001b[32m    851\u001b[39m \u001b[43m            \u001b[49m\u001b[43mmetadata_cache_manager\u001b[49m\u001b[43m=\u001b[49m\u001b[43m_cache_manager\u001b[49m\u001b[43m,\u001b[49m\n\u001b[32m    852\u001b[39m \u001b[43m            \u001b[49m\u001b[43mathena_query_wait_polling_delay\u001b[49m\u001b[43m=\u001b[49m\u001b[43mathena_query_wait_polling_delay\u001b[49m\u001b[43m,\u001b[49m\n\u001b[32m    853\u001b[39m \u001b[43m        \u001b[49m\u001b[43m)\u001b[49m\n\u001b[32m    854\u001b[39m     \u001b[38;5;28;01mexcept\u001b[39;00m exceptions.QueryFailed \u001b[38;5;28;01mas\u001b[39;00m ex:\n\u001b[32m    855\u001b[39m         msg: \u001b[38;5;28mstr\u001b[39m = \u001b[38;5;28mstr\u001b[39m(ex)\n",
      "\u001b[36mFile \u001b[39m\u001b[32mc:\\Users\\kumar\\anaconda3\\envs\\MLRuken\\Lib\\site-packages\\awswrangler\\athena\\_utils.py:233\u001b[39m, in \u001b[36m_get_query_metadata\u001b[39m\u001b[34m(query_execution_id, boto3_session, categories, query_execution_payload, metadata_cache_manager, athena_query_wait_polling_delay, execution_params, dtype_backend)\u001b[39m\n\u001b[32m    229\u001b[39m     _query_execution_payload = query_execution_payload\n\u001b[32m    230\u001b[39m \u001b[38;5;28;01melse\u001b[39;00m:\n\u001b[32m    231\u001b[39m     _query_execution_payload = cast(\n\u001b[32m    232\u001b[39m         \u001b[33m\"\u001b[39m\u001b[33mQueryExecutionTypeDef\u001b[39m\u001b[33m\"\u001b[39m,\n\u001b[32m--> \u001b[39m\u001b[32m233\u001b[39m         \u001b[43m_executions\u001b[49m\u001b[43m.\u001b[49m\u001b[43mwait_query\u001b[49m\u001b[43m(\u001b[49m\n\u001b[32m    234\u001b[39m \u001b[43m            \u001b[49m\u001b[43mquery_execution_id\u001b[49m\u001b[43m=\u001b[49m\u001b[43mquery_execution_id\u001b[49m\u001b[43m,\u001b[49m\n\u001b[32m    235\u001b[39m \u001b[43m            \u001b[49m\u001b[43mboto3_session\u001b[49m\u001b[43m=\u001b[49m\u001b[43mboto3_session\u001b[49m\u001b[43m,\u001b[49m\n\u001b[32m    236\u001b[39m \u001b[43m            \u001b[49m\u001b[43mathena_query_wait_polling_delay\u001b[49m\u001b[43m=\u001b[49m\u001b[43mathena_query_wait_polling_delay\u001b[49m\u001b[43m,\u001b[49m\n\u001b[32m    237\u001b[39m \u001b[43m        \u001b[49m\u001b[43m)\u001b[49m,\n\u001b[32m    238\u001b[39m     )\n\u001b[32m    239\u001b[39m cols_types: \u001b[38;5;28mdict\u001b[39m[\u001b[38;5;28mstr\u001b[39m, \u001b[38;5;28mstr\u001b[39m] = get_query_columns_types(\n\u001b[32m    240\u001b[39m     query_execution_id=query_execution_id, boto3_session=boto3_session\n\u001b[32m    241\u001b[39m )\n\u001b[32m    242\u001b[39m _logger.debug(\u001b[33m\"\u001b[39m\u001b[33mCasting query column types: \u001b[39m\u001b[38;5;132;01m%s\u001b[39;00m\u001b[33m\"\u001b[39m, cols_types)\n",
      "\u001b[36mFile \u001b[39m\u001b[32mc:\\Users\\kumar\\anaconda3\\envs\\MLRuken\\Lib\\site-packages\\awswrangler\\_config.py:712\u001b[39m, in \u001b[36mapply_configs.<locals>.wrapper\u001b[39m\u001b[34m(*args_raw, **kwargs)\u001b[39m\n\u001b[32m    710\u001b[39m         \u001b[38;5;28;01mdel\u001b[39;00m args[name]\n\u001b[32m    711\u001b[39m         args = {**args, **keywords}\n\u001b[32m--> \u001b[39m\u001b[32m712\u001b[39m \u001b[38;5;28;01mreturn\u001b[39;00m \u001b[43mfunction\u001b[49m\u001b[43m(\u001b[49m\u001b[43m*\u001b[49m\u001b[43m*\u001b[49m\u001b[43margs\u001b[49m\u001b[43m)\u001b[49m\n",
      "\u001b[36mFile \u001b[39m\u001b[32mc:\\Users\\kumar\\anaconda3\\envs\\MLRuken\\Lib\\site-packages\\awswrangler\\athena\\_executions.py:224\u001b[39m, in \u001b[36mwait_query\u001b[39m\u001b[34m(query_execution_id, boto3_session, athena_query_wait_polling_delay)\u001b[39m\n\u001b[32m    222\u001b[39m state: \u001b[38;5;28mstr\u001b[39m = response[\u001b[33m\"\u001b[39m\u001b[33mStatus\u001b[39m\u001b[33m\"\u001b[39m][\u001b[33m\"\u001b[39m\u001b[33mState\u001b[39m\u001b[33m\"\u001b[39m]\n\u001b[32m    223\u001b[39m \u001b[38;5;28;01mwhile\u001b[39;00m state \u001b[38;5;129;01mnot\u001b[39;00m \u001b[38;5;129;01min\u001b[39;00m _QUERY_FINAL_STATES:\n\u001b[32m--> \u001b[39m\u001b[32m224\u001b[39m     \u001b[43mtime\u001b[49m\u001b[43m.\u001b[49m\u001b[43msleep\u001b[49m\u001b[43m(\u001b[49m\u001b[43mathena_query_wait_polling_delay\u001b[49m\u001b[43m)\u001b[49m\n\u001b[32m    225\u001b[39m     response = get_query_execution(query_execution_id=query_execution_id, boto3_session=boto3_session)\n\u001b[32m    226\u001b[39m     state = response[\u001b[33m\"\u001b[39m\u001b[33mStatus\u001b[39m\u001b[33m\"\u001b[39m][\u001b[33m\"\u001b[39m\u001b[33mState\u001b[39m\u001b[33m\"\u001b[39m]\n",
      "\u001b[31mKeyboardInterrupt\u001b[39m: "
     ]
    }
   ],
   "source": [
    "# checking all unique names in the table\n",
    "unique_datatypes = dict()\n",
    "for things in ['model_name', 'datatype']:\n",
    "    sql = f\"SELECT DISTINCT {things}, 'CAISO' as iso FROM {table}\"\n",
    "    unique_datatypes[things] = wr.athena.read_sql_query(\n",
    "        sql=sql,\n",
    "        database=db,\n",
    "        boto3_session=session\n",
    "    )"
   ]
  },
  {
   "cell_type": "code",
   "execution_count": 8,
   "id": "f4e357fd",
   "metadata": {},
   "outputs": [],
   "source": [
    "# checking all unique names in the table\n",
    "unique_datatypes = dict()\n",
    "for things in ['model_name', 'datatype']:\n",
    "    sql = f\"SELECT DISTINCT {things}, 'CAISO' as iso FROM rfo_weather_forecasts_enriched\"\n",
    "    unique_datatypes[things] = wr.athena.read_sql_query(\n",
    "        sql=sql,\n",
    "        database=\"rfo_analytics\",\n",
    "        boto3_session=session\n",
    "    )\n"
   ]
  },
  {
   "cell_type": "code",
   "execution_count": 9,
   "id": "9c79dd65",
   "metadata": {},
   "outputs": [
    {
     "data": {
      "text/html": [
       "<div>\n",
       "<style scoped>\n",
       "    .dataframe tbody tr th:only-of-type {\n",
       "        vertical-align: middle;\n",
       "    }\n",
       "\n",
       "    .dataframe tbody tr th {\n",
       "        vertical-align: top;\n",
       "    }\n",
       "\n",
       "    .dataframe thead th {\n",
       "        text-align: right;\n",
       "    }\n",
       "</style>\n",
       "<table border=\"1\" class=\"dataframe\">\n",
       "  <thead>\n",
       "    <tr style=\"text-align: right;\">\n",
       "      <th></th>\n",
       "      <th>model_name</th>\n",
       "      <th>iso</th>\n",
       "    </tr>\n",
       "  </thead>\n",
       "  <tbody>\n",
       "    <tr>\n",
       "      <th>0</th>\n",
       "      <td>ECM Op</td>\n",
       "      <td>CAISO</td>\n",
       "    </tr>\n",
       "    <tr>\n",
       "      <th>1</th>\n",
       "      <td>ECM Ens MOS</td>\n",
       "      <td>CAISO</td>\n",
       "    </tr>\n",
       "    <tr>\n",
       "      <th>2</th>\n",
       "      <td>WSI - Prev. Evening</td>\n",
       "      <td>CAISO</td>\n",
       "    </tr>\n",
       "    <tr>\n",
       "      <th>3</th>\n",
       "      <td>GFS Op</td>\n",
       "      <td>CAISO</td>\n",
       "    </tr>\n",
       "    <tr>\n",
       "      <th>4</th>\n",
       "      <td>GEM Ens Mean</td>\n",
       "      <td>CAISO</td>\n",
       "    </tr>\n",
       "    <tr>\n",
       "      <th>5</th>\n",
       "      <td>GFS Ens Mean</td>\n",
       "      <td>CAISO</td>\n",
       "    </tr>\n",
       "    <tr>\n",
       "      <th>6</th>\n",
       "      <td>WSI - Morning</td>\n",
       "      <td>CAISO</td>\n",
       "    </tr>\n",
       "    <tr>\n",
       "      <th>7</th>\n",
       "      <td>WSI</td>\n",
       "      <td>CAISO</td>\n",
       "    </tr>\n",
       "    <tr>\n",
       "      <th>8</th>\n",
       "      <td>ECM Ens Mean</td>\n",
       "      <td>CAISO</td>\n",
       "    </tr>\n",
       "    <tr>\n",
       "      <th>9</th>\n",
       "      <td>GEM Op</td>\n",
       "      <td>CAISO</td>\n",
       "    </tr>\n",
       "  </tbody>\n",
       "</table>\n",
       "</div>"
      ],
      "text/plain": [
       "            model_name    iso\n",
       "0               ECM Op  CAISO\n",
       "1          ECM Ens MOS  CAISO\n",
       "2  WSI - Prev. Evening  CAISO\n",
       "3               GFS Op  CAISO\n",
       "4         GEM Ens Mean  CAISO\n",
       "5         GFS Ens Mean  CAISO\n",
       "6        WSI - Morning  CAISO\n",
       "7                  WSI  CAISO\n",
       "8         ECM Ens Mean  CAISO\n",
       "9               GEM Op  CAISO"
      ]
     },
     "execution_count": 9,
     "metadata": {},
     "output_type": "execute_result"
    }
   ],
   "source": [
    "unique_datatypes['model_name']"
   ]
  },
  {
   "cell_type": "code",
   "execution_count": 10,
   "id": "f86dadd5",
   "metadata": {},
   "outputs": [
    {
     "data": {
      "text/html": [
       "<div>\n",
       "<style scoped>\n",
       "    .dataframe tbody tr th:only-of-type {\n",
       "        vertical-align: middle;\n",
       "    }\n",
       "\n",
       "    .dataframe tbody tr th {\n",
       "        vertical-align: top;\n",
       "    }\n",
       "\n",
       "    .dataframe thead th {\n",
       "        text-align: right;\n",
       "    }\n",
       "</style>\n",
       "<table border=\"1\" class=\"dataframe\">\n",
       "  <thead>\n",
       "    <tr style=\"text-align: right;\">\n",
       "      <th></th>\n",
       "      <th>datatype</th>\n",
       "      <th>iso</th>\n",
       "    </tr>\n",
       "  </thead>\n",
       "  <tbody>\n",
       "    <tr>\n",
       "      <th>0</th>\n",
       "      <td>min_temp</td>\n",
       "      <td>CAISO</td>\n",
       "    </tr>\n",
       "    <tr>\n",
       "      <th>1</th>\n",
       "      <td>max_temp</td>\n",
       "      <td>CAISO</td>\n",
       "    </tr>\n",
       "  </tbody>\n",
       "</table>\n",
       "</div>"
      ],
      "text/plain": [
       "   datatype    iso\n",
       "0  min_temp  CAISO\n",
       "1  max_temp  CAISO"
      ]
     },
     "execution_count": 10,
     "metadata": {},
     "output_type": "execute_result"
    }
   ],
   "source": [
    "unique_datatypes['datatype']"
   ]
  },
  {
   "cell_type": "code",
   "execution_count": 7,
   "id": "2da469cc",
   "metadata": {},
   "outputs": [
    {
     "name": "stdout",
     "output_type": "stream",
     "text": [
      "station_name\n",
      "Medford           1\n",
      "Reno              1\n",
      "Vancouver         1\n",
      "Boise             1\n",
      "Salt Lake City    1\n",
      "Great Falls       1\n",
      "Yakima            1\n",
      "NWPP              1\n",
      "Spokane           1\n",
      "Eugene            1\n",
      "Portland          1\n",
      "Seattle           1\n",
      "Pendleton         1\n",
      "Tacoma            1\n",
      "Klamath Falls     1\n",
      "Billings          1\n",
      "Name: count, dtype: Int64\n"
     ]
    }
   ],
   "source": [
    "# checking all unique station names in the table with region as \"CAISO\"\n",
    "sql = \"SELECT DISTINCT station_name FROM rfo_weather_hourly_forecasts_enriched WHERE region = 'NWPP'\"\n",
    "unique_datatypes = wr.athena.read_sql_query(\n",
    "    sql=sql,\n",
    "    database=\"rfo_analytics\",\n",
    "    boto3_session=session\n",
    ")\n",
    "print(unique_datatypes['station_name'].value_counts())"
   ]
  },
  {
   "cell_type": "code",
   "execution_count": 10,
   "id": "cd1f73df",
   "metadata": {},
   "outputs": [
    {
     "name": "stdout",
     "output_type": "stream",
     "text": [
      "model_name\n",
      "WSI    1\n",
      "Name: count, dtype: Int64\n"
     ]
    }
   ],
   "source": [
    "# checking all unique station names in the table with region as \"CAISO\"\n",
    "sql = \"SELECT DISTINCT model_name FROM rfo_weather_hourly_forecasts_enriched WHERE region = 'NWPP'\"\n",
    "unique_datatypes = wr.athena.read_sql_query(\n",
    "    sql=sql,\n",
    "    database=\"rfo_analytics\",\n",
    "    boto3_session=session\n",
    ")\n",
    "print(unique_datatypes['model_name'].value_counts())"
   ]
  },
  {
   "cell_type": "code",
   "execution_count": 4,
   "id": "4552deeb",
   "metadata": {},
   "outputs": [],
   "source": [
    "conditions='''WHERE region = 'NWPP'\n",
    "  AND CAST(datetime AS DATE) BETWEEN DATE '2025-01-01' AND DATE '2025-12-31' '''"
   ]
  },
  {
   "cell_type": "code",
   "execution_count": 5,
   "id": "594af11e",
   "metadata": {},
   "outputs": [],
   "source": [
    "#To query all columns\n",
    "# table_info = wr.catalog.table(\n",
    "#     database=\"rfo_analytics\", \n",
    "#     table=table, \n",
    "#     boto3_session=session\n",
    "# )\n",
    "# columns = table_info['Column Name'].values\n",
    "\n",
    "#If you know which columns to query\n",
    "columns = [\"datetime\",\"datatype\",\"avgvalue\",\"model_date\",\"model_hour\",\"station_name\",\"timezone\"] # for weather\n",
    "# columns = [\"datetime\",\"avgvalue\",\"objectid\",\"name\",\"yes_objectid\",\"iso\"]\n",
    "# Build SELECT clause with automatic datetime casting\n",
    "select_parts = []\n",
    "for col_name in columns:\n",
    "    if col_name.lower() == 'datetime':\n",
    "        select_parts.append(f\"CAST({col_name} AS timestamp) as {col_name}\")\n",
    "    else:\n",
    "        select_parts.append(col_name)\n",
    "\n",
    "select_clause = \",\\n    \".join(select_parts)\n",
    "\n",
    "# Build and execute query\n",
    "sql = f\"\"\"SELECT \n",
    "    {select_clause}\n",
    "FROM {table}\n",
    "{conditions}\n",
    "\"\"\"\n",
    "\n",
    "df = wr.athena.read_sql_query(\n",
    "    sql=sql,\n",
    "    database=\"rfo_analytics\",\n",
    "    boto3_session=session\n",
    ")"
   ]
  },
  {
   "cell_type": "code",
   "execution_count": 7,
   "id": "f4052a41",
   "metadata": {},
   "outputs": [
    {
     "data": {
      "text/html": [
       "<div>\n",
       "<style scoped>\n",
       "    .dataframe tbody tr th:only-of-type {\n",
       "        vertical-align: middle;\n",
       "    }\n",
       "\n",
       "    .dataframe tbody tr th {\n",
       "        vertical-align: top;\n",
       "    }\n",
       "\n",
       "    .dataframe thead th {\n",
       "        text-align: right;\n",
       "    }\n",
       "</style>\n",
       "<table border=\"1\" class=\"dataframe\">\n",
       "  <thead>\n",
       "    <tr style=\"text-align: right;\">\n",
       "      <th></th>\n",
       "      <th>datetime</th>\n",
       "      <th>datatype</th>\n",
       "      <th>avgvalue</th>\n",
       "      <th>model_date</th>\n",
       "      <th>model_hour</th>\n",
       "      <th>station_name</th>\n",
       "      <th>timezone</th>\n",
       "    </tr>\n",
       "  </thead>\n",
       "  <tbody>\n",
       "    <tr>\n",
       "      <th>0</th>\n",
       "      <td>2025-09-05 09:00:00</td>\n",
       "      <td>cloud_cover</td>\n",
       "      <td>0.0</td>\n",
       "      <td>2025-09-05</td>\n",
       "      <td>07</td>\n",
       "      <td>Boise</td>\n",
       "      <td>America/Boise</td>\n",
       "    </tr>\n",
       "    <tr>\n",
       "      <th>1</th>\n",
       "      <td>2025-09-05 11:00:00</td>\n",
       "      <td>cloud_cover</td>\n",
       "      <td>30.0</td>\n",
       "      <td>2025-09-05</td>\n",
       "      <td>07</td>\n",
       "      <td>Boise</td>\n",
       "      <td>America/Boise</td>\n",
       "    </tr>\n",
       "    <tr>\n",
       "      <th>2</th>\n",
       "      <td>2025-09-05 12:00:00</td>\n",
       "      <td>cloud_cover</td>\n",
       "      <td>34.0</td>\n",
       "      <td>2025-09-05</td>\n",
       "      <td>07</td>\n",
       "      <td>Boise</td>\n",
       "      <td>America/Boise</td>\n",
       "    </tr>\n",
       "    <tr>\n",
       "      <th>3</th>\n",
       "      <td>2025-09-05 14:00:00</td>\n",
       "      <td>cloud_cover</td>\n",
       "      <td>7.0</td>\n",
       "      <td>2025-09-05</td>\n",
       "      <td>07</td>\n",
       "      <td>Boise</td>\n",
       "      <td>America/Boise</td>\n",
       "    </tr>\n",
       "    <tr>\n",
       "      <th>4</th>\n",
       "      <td>2025-09-05 19:00:00</td>\n",
       "      <td>cloud_cover</td>\n",
       "      <td>5.0</td>\n",
       "      <td>2025-09-05</td>\n",
       "      <td>07</td>\n",
       "      <td>Boise</td>\n",
       "      <td>America/Boise</td>\n",
       "    </tr>\n",
       "  </tbody>\n",
       "</table>\n",
       "</div>"
      ],
      "text/plain": [
       "             datetime     datatype  avgvalue  model_date model_hour  \\\n",
       "0 2025-09-05 09:00:00  cloud_cover       0.0  2025-09-05         07   \n",
       "1 2025-09-05 11:00:00  cloud_cover      30.0  2025-09-05         07   \n",
       "2 2025-09-05 12:00:00  cloud_cover      34.0  2025-09-05         07   \n",
       "3 2025-09-05 14:00:00  cloud_cover       7.0  2025-09-05         07   \n",
       "4 2025-09-05 19:00:00  cloud_cover       5.0  2025-09-05         07   \n",
       "\n",
       "  station_name       timezone  \n",
       "0        Boise  America/Boise  \n",
       "1        Boise  America/Boise  \n",
       "2        Boise  America/Boise  \n",
       "3        Boise  America/Boise  \n",
       "4        Boise  America/Boise  "
      ]
     },
     "execution_count": 7,
     "metadata": {},
     "output_type": "execute_result"
    }
   ],
   "source": [
    "df.head()"
   ]
  },
  {
   "cell_type": "code",
   "execution_count": 6,
   "id": "9549fea5",
   "metadata": {},
   "outputs": [],
   "source": [
    "#df's datatype column has two values: 'temperature' and 'temperature_avg', and the corresponding value is in avgvalue column. I want two separate columns 'temperature' and 'temperature_avg' with their values taken from avgvalue column.\n",
    "df = df[['datetime','model_date','model_hour','station_name','datatype','avgvalue']].pivot(index=['datetime','model_date','model_hour','station_name'], columns='datatype', values='avgvalue').reset_index()\n",
    "df = df.rename_axis(None, axis=1)  # remove the axis name"
   ]
  },
  {
   "cell_type": "code",
   "execution_count": 14,
   "id": "bd061886",
   "metadata": {},
   "outputs": [],
   "source": [
    "import pandas as pd"
   ]
  },
  {
   "cell_type": "code",
   "execution_count": 10,
   "id": "a41cc821",
   "metadata": {},
   "outputs": [
    {
     "data": {
      "text/plain": [
       "(Timestamp('2025-08-20 06:00:00'), Timestamp('2025-09-21 06:00:00'))"
      ]
     },
     "execution_count": 10,
     "metadata": {},
     "output_type": "execute_result"
    }
   ],
   "source": [
    "df['datetime'].min(), df['datetime'].max() "
   ]
  },
  {
   "cell_type": "code",
   "execution_count": 17,
   "id": "0b6c943c",
   "metadata": {},
   "outputs": [
    {
     "data": {
      "text/html": [
       "<div>\n",
       "<style scoped>\n",
       "    .dataframe tbody tr th:only-of-type {\n",
       "        vertical-align: middle;\n",
       "    }\n",
       "\n",
       "    .dataframe tbody tr th {\n",
       "        vertical-align: top;\n",
       "    }\n",
       "\n",
       "    .dataframe thead th {\n",
       "        text-align: right;\n",
       "    }\n",
       "</style>\n",
       "<table border=\"1\" class=\"dataframe\">\n",
       "  <thead>\n",
       "    <tr style=\"text-align: right;\">\n",
       "      <th></th>\n",
       "      <th>datetime</th>\n",
       "      <th>model_date</th>\n",
       "      <th>model_hour</th>\n",
       "      <th>station_name</th>\n",
       "      <th>cloud_cover</th>\n",
       "      <th>dewpoint</th>\n",
       "      <th>feelsliketemp</th>\n",
       "      <th>feelsliketempdiff</th>\n",
       "      <th>ghirradiance</th>\n",
       "      <th>precip</th>\n",
       "      <th>temp</th>\n",
       "      <th>tempdiff</th>\n",
       "      <th>tempnormal</th>\n",
       "      <th>winddir</th>\n",
       "      <th>windspeed_mph</th>\n",
       "    </tr>\n",
       "  </thead>\n",
       "  <tbody>\n",
       "  </tbody>\n",
       "</table>\n",
       "</div>"
      ],
      "text/plain": [
       "Empty DataFrame\n",
       "Columns: [datetime, model_date, model_hour, station_name, cloud_cover, dewpoint, feelsliketemp, feelsliketempdiff, ghirradiance, precip, temp, tempdiff, tempnormal, winddir, windspeed_mph]\n",
       "Index: []"
      ]
     },
     "execution_count": 17,
     "metadata": {},
     "output_type": "execute_result"
    }
   ],
   "source": [
    "df[(df['model_date'] == pd.to_datetime('9/4/2025').date())&(df['datetime'].dt.date == pd.to_datetime('9/10/2025').date())&(df['station_name'] == 'Portland')&(df['model_hour'] == 11)].head(20)"
   ]
  },
  {
   "cell_type": "code",
   "execution_count": 11,
   "id": "59915305",
   "metadata": {},
   "outputs": [],
   "source": [
    "#save df a csv file\n",
    "df.to_csv(\"../data/WFC_RNWPP_22Aug25-20Sep25.csv\", index=False)"
   ]
  },
  {
   "cell_type": "code",
   "execution_count": 7,
   "id": "a3d9cb00",
   "metadata": {},
   "outputs": [
    {
     "data": {
      "text/html": [
       "<div>\n",
       "<style scoped>\n",
       "    .dataframe tbody tr th:only-of-type {\n",
       "        vertical-align: middle;\n",
       "    }\n",
       "\n",
       "    .dataframe tbody tr th {\n",
       "        vertical-align: top;\n",
       "    }\n",
       "\n",
       "    .dataframe thead th {\n",
       "        text-align: right;\n",
       "    }\n",
       "</style>\n",
       "<table border=\"1\" class=\"dataframe\">\n",
       "  <thead>\n",
       "    <tr style=\"text-align: right;\">\n",
       "      <th></th>\n",
       "      <th>datetime</th>\n",
       "      <th>model_date</th>\n",
       "      <th>model_hour</th>\n",
       "      <th>station_name</th>\n",
       "      <th>cloud_cover</th>\n",
       "      <th>dewpoint</th>\n",
       "      <th>feelsliketemp</th>\n",
       "      <th>feelsliketempdiff</th>\n",
       "      <th>ghirradiance</th>\n",
       "      <th>precip</th>\n",
       "      <th>temp</th>\n",
       "      <th>tempdiff</th>\n",
       "      <th>tempnormal</th>\n",
       "      <th>winddir</th>\n",
       "      <th>windspeed_mph</th>\n",
       "    </tr>\n",
       "  </thead>\n",
       "  <tbody>\n",
       "    <tr>\n",
       "      <th>0</th>\n",
       "      <td>2025-08-20 06:00:00</td>\n",
       "      <td>2025-08-20</td>\n",
       "      <td>18</td>\n",
       "      <td>Billings</td>\n",
       "      <td>0.0</td>\n",
       "      <td>37.04</td>\n",
       "      <td>81.70</td>\n",
       "      <td>3.98</td>\n",
       "      <td>0.0</td>\n",
       "      <td>0.0</td>\n",
       "      <td>84.02</td>\n",
       "      <td>6.30</td>\n",
       "      <td>63.68</td>\n",
       "      <td>110.0</td>\n",
       "      <td>8.1</td>\n",
       "    </tr>\n",
       "    <tr>\n",
       "      <th>1</th>\n",
       "      <td>2025-08-20 06:00:00</td>\n",
       "      <td>2025-08-20</td>\n",
       "      <td>18</td>\n",
       "      <td>Boise</td>\n",
       "      <td>0.0</td>\n",
       "      <td>48.92</td>\n",
       "      <td>77.00</td>\n",
       "      <td>-1.08</td>\n",
       "      <td>0.0</td>\n",
       "      <td>0.0</td>\n",
       "      <td>77.00</td>\n",
       "      <td>-1.08</td>\n",
       "      <td>67.43</td>\n",
       "      <td>120.0</td>\n",
       "      <td>3.4</td>\n",
       "    </tr>\n",
       "    <tr>\n",
       "      <th>2</th>\n",
       "      <td>2025-08-20 06:00:00</td>\n",
       "      <td>2025-08-20</td>\n",
       "      <td>18</td>\n",
       "      <td>Great Falls</td>\n",
       "      <td>0.0</td>\n",
       "      <td>51.98</td>\n",
       "      <td>71.06</td>\n",
       "      <td>-0.18</td>\n",
       "      <td>0.0</td>\n",
       "      <td>0.0</td>\n",
       "      <td>71.06</td>\n",
       "      <td>-0.18</td>\n",
       "      <td>57.73</td>\n",
       "      <td>0.0</td>\n",
       "      <td>15.0</td>\n",
       "    </tr>\n",
       "    <tr>\n",
       "      <th>3</th>\n",
       "      <td>2025-08-20 06:00:00</td>\n",
       "      <td>2025-08-20</td>\n",
       "      <td>18</td>\n",
       "      <td>Salt Lake City</td>\n",
       "      <td>25.0</td>\n",
       "      <td>35.96</td>\n",
       "      <td>78.07</td>\n",
       "      <td>-1.09</td>\n",
       "      <td>0.0</td>\n",
       "      <td>0.0</td>\n",
       "      <td>80.06</td>\n",
       "      <td>0.90</td>\n",
       "      <td>72.05</td>\n",
       "      <td>170.0</td>\n",
       "      <td>4.7</td>\n",
       "    </tr>\n",
       "    <tr>\n",
       "      <th>4</th>\n",
       "      <td>2025-08-20 07:00:00</td>\n",
       "      <td>2025-08-20</td>\n",
       "      <td>18</td>\n",
       "      <td>Billings</td>\n",
       "      <td>0.0</td>\n",
       "      <td>37.94</td>\n",
       "      <td>77.00</td>\n",
       "      <td>2.16</td>\n",
       "      <td>0.0</td>\n",
       "      <td>0.0</td>\n",
       "      <td>77.00</td>\n",
       "      <td>2.16</td>\n",
       "      <td>60.74</td>\n",
       "      <td>350.0</td>\n",
       "      <td>3.4</td>\n",
       "    </tr>\n",
       "  </tbody>\n",
       "</table>\n",
       "</div>"
      ],
      "text/plain": [
       "             datetime  model_date model_hour    station_name  cloud_cover  \\\n",
       "0 2025-08-20 06:00:00  2025-08-20         18        Billings          0.0   \n",
       "1 2025-08-20 06:00:00  2025-08-20         18           Boise          0.0   \n",
       "2 2025-08-20 06:00:00  2025-08-20         18     Great Falls          0.0   \n",
       "3 2025-08-20 06:00:00  2025-08-20         18  Salt Lake City         25.0   \n",
       "4 2025-08-20 07:00:00  2025-08-20         18        Billings          0.0   \n",
       "\n",
       "   dewpoint  feelsliketemp  feelsliketempdiff  ghirradiance  precip   temp  \\\n",
       "0     37.04          81.70               3.98           0.0     0.0  84.02   \n",
       "1     48.92          77.00              -1.08           0.0     0.0  77.00   \n",
       "2     51.98          71.06              -0.18           0.0     0.0  71.06   \n",
       "3     35.96          78.07              -1.09           0.0     0.0  80.06   \n",
       "4     37.94          77.00               2.16           0.0     0.0  77.00   \n",
       "\n",
       "   tempdiff  tempnormal  winddir  windspeed_mph  \n",
       "0      6.30       63.68    110.0            8.1  \n",
       "1     -1.08       67.43    120.0            3.4  \n",
       "2     -0.18       57.73      0.0           15.0  \n",
       "3      0.90       72.05    170.0            4.7  \n",
       "4      2.16       60.74    350.0            3.4  "
      ]
     },
     "execution_count": 7,
     "metadata": {},
     "output_type": "execute_result"
    }
   ],
   "source": [
    "df.head()"
   ]
  },
  {
   "cell_type": "code",
   "execution_count": null,
   "id": "427ecd55",
   "metadata": {},
   "outputs": [],
   "source": []
  }
 ],
 "metadata": {
  "kernelspec": {
   "display_name": "MLRuken",
   "language": "python",
   "name": "python3"
  },
  "language_info": {
   "codemirror_mode": {
    "name": "ipython",
    "version": 3
   },
   "file_extension": ".py",
   "mimetype": "text/x-python",
   "name": "python",
   "nbconvert_exporter": "python",
   "pygments_lexer": "ipython3",
   "version": "3.12.11"
  }
 },
 "nbformat": 4,
 "nbformat_minor": 5
}
