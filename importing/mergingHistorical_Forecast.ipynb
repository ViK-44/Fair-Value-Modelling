{
 "cells": [
  {
   "cell_type": "code",
   "execution_count": 33,
   "id": "a348e248",
   "metadata": {},
   "outputs": [],
   "source": [
    "import pandas as pd\n",
    "import matplotlib.pyplot as plt"
   ]
  },
  {
   "cell_type": "code",
   "execution_count": 39,
   "id": "18e3dc9b",
   "metadata": {},
   "outputs": [],
   "source": [
    "#load data/AllWeathForecastDTypes_NWPP_10yrs.csv as a dataframe\n",
    "dfX = pd.read_csv(\"data/AllWeathForecastDTypes_NWPP_10yrs.csv\")\n",
    "# dfY = pd.read_csv(\"data/RTLoad_MIDC+NW_10yrs.csv\")\n",
    "#subtract 7 hours from datetime to convert from UTC to PST\n",
    "# dfY['datetime'] = pd.to_datetime(dfY['datetime'])\n",
    "# dfY['datetime'] = dfY['datetime'] - pd.Timedelta(hours=7)\n",
    "dfX['datetime'] = pd.to_datetime(dfX['datetime'])\n",
    "dfX['datetime'] = (dfX['datetime'] - pd.Timedelta(hours=7))"
   ]
  },
  {
   "cell_type": "code",
   "execution_count": 40,
   "id": "d33fffb7",
   "metadata": {},
   "outputs": [],
   "source": [
    "dfhist = pd.read_csv(\"data/AllWeathDTypes_NWPP_10yrs.csv\")\n",
    "dfhist['datetime'] = pd.to_datetime(dfhist['datetime'])\n",
    "dfhist['datetime'] = (dfhist['datetime'] - pd.Timedelta(hours=7))"
   ]
  },
  {
   "cell_type": "code",
   "execution_count": 41,
   "id": "4dc05507",
   "metadata": {},
   "outputs": [],
   "source": [
    "dfX = dfX[dfX['model_hour']==11]\n",
    "days = 11 # THIS SHOULD BE AN INPUT PARAMETER\n",
    "dfX['model_date'] = pd.to_datetime(dfX['model_date']).dt.date\n",
    "dfX = dfX[dfX['model_date'] == dfX['datetime'].dt.date - pd.Timedelta(days=days)].drop(columns=['model_hour', 'model_date'])    \n",
    "#rename the \"temp\" column to \"temperature\"\n",
    "dfX = dfX.rename(columns={\"temp\": \"temperature\", \"cloud_cover\": \"cloudCover\", \"windspeed_mph\": \"windSpeed\"})"
   ]
  },
  {
   "cell_type": "code",
   "execution_count": 42,
   "id": "918b8b03",
   "metadata": {},
   "outputs": [
    {
     "name": "stderr",
     "output_type": "stream",
     "text": [
      "C:\\Users\\kumar\\AppData\\Local\\Temp\\ipykernel_39540\\1725834205.py:21: FutureWarning: The behavior of DataFrame concatenation with empty or all-NA entries is deprecated. In a future version, this will no longer exclude empty or all-NA columns when determining the result dtypes. To retain the old behavior, exclude the relevant entries before the concat operation.\n",
      "  merged_df = pd.concat([dfhist_copy, dfX_copy], ignore_index=True)\n"
     ]
    },
    {
     "name": "stdout",
     "output_type": "stream",
     "text": [
      "Merged dataframe has 85308 rows\n"
     ]
    }
   ],
   "source": [
    "# Create copies to avoid modifying original dataframes\n",
    "dfX_copy = dfX.copy()\n",
    "dfhist_copy = dfhist.copy()\n",
    "\n",
    "# Add source column to each dataframe\n",
    "dfX_copy['source'] = 'forecast'\n",
    "dfhist_copy['source'] = 'historical'\n",
    "\n",
    "# Make sure columns match between the two dataframes\n",
    "# Get all columns from both dataframes\n",
    "all_columns = list(set(dfX_copy.columns).union(set(dfhist_copy.columns)))\n",
    "\n",
    "# Add missing columns with NaN values\n",
    "for col in all_columns:\n",
    "    if col not in dfX_copy.columns:\n",
    "        dfX_copy[col] = None\n",
    "    if col not in dfhist_copy.columns:\n",
    "        dfhist_copy[col] = None\n",
    "\n",
    "# Combine the dataframes\n",
    "merged_df = pd.concat([dfhist_copy, dfX_copy], ignore_index=True)\n",
    "\n",
    "# Sort by datetime for clarity\n",
    "merged_df = merged_df.sort_values('datetime')\n",
    "\n",
    "# Check our common columns to ensure they're present\n",
    "for col in common_columns:\n",
    "    if col not in merged_df.columns:\n",
    "        print(f\"Warning: {col} is not in the merged dataframe\")\n",
    "\n",
    "# Display the first few rows of the merged dataframe with source column\n",
    "print(f\"Merged dataframe has {len(merged_df)} rows\")"
   ]
  }
 ],
 "metadata": {
  "kernelspec": {
   "display_name": "MLRuken",
   "language": "python",
   "name": "python3"
  },
  "language_info": {
   "codemirror_mode": {
    "name": "ipython",
    "version": 3
   },
   "file_extension": ".py",
   "mimetype": "text/x-python",
   "name": "python",
   "nbconvert_exporter": "python",
   "pygments_lexer": "ipython3",
   "version": "3.12.11"
  }
 },
 "nbformat": 4,
 "nbformat_minor": 5
}
